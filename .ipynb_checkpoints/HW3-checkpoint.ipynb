{
 "cells": [
  {
   "cell_type": "code",
   "execution_count": null,
   "metadata": {},
   "outputs": [],
   "source": [
    "def myLR(X,y,alpha,n_rounds):\n",
    "    n_features = X.shape[1]\n",
    "    n_num=X.shape[0]\n",
    "    beta = np.array([0.0]*n_features)\n",
    "    step_cnt=0\n",
    "    for i in range(n_rounds):\n",
    "        epsilon=np.dot(X,beta)-y\n",
    "        gradient=np.dot(np.transpose(X),epsilon)/n_num\n",
    "        gradients.append(alpha*gradient[0])\n",
    "        # check convergence\n",
    "        if abs(alpha*gradient).all()<1:\n",
    "            \n",
    "            print(\"converge\")\n",
    "            break\n",
    "        beta=beta-alpha*gradient\n",
    "        step_cnt+=1\n",
    "        #reduce learning rate\n",
    "        if step_cnt%10000==0:\n",
    "            alpha/=10\n",
    "\n",
    "    return beta\n",
    "            "
   ]
  }
 ],
 "metadata": {
  "kernelspec": {
   "display_name": "Python 3",
   "language": "python",
   "name": "python3"
  },
  "language_info": {
   "codemirror_mode": {
    "name": "ipython",
    "version": 3
   },
   "file_extension": ".py",
   "mimetype": "text/x-python",
   "name": "python",
   "nbconvert_exporter": "python",
   "pygments_lexer": "ipython3",
   "version": "3.7.0"
  }
 },
 "nbformat": 4,
 "nbformat_minor": 2
}
